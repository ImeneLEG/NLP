{
 "cells": [
  {
   "cell_type": "markdown",
   "id": "9417ca15",
   "metadata": {},
   "source": [
    "## Lecture du fichier et prétraitement du texte"
   ]
  },
  {
   "cell_type": "code",
   "execution_count": 1,
   "id": "54d66415",
   "metadata": {},
   "outputs": [
    {
     "name": "stdout",
     "output_type": "stream",
     "text": [
      "['morocco', 'and', 'marrakech', 'tapestry', 'of', 'tradition', 'and', 'modernity', 'morocco', 'located', 'at', 'the', 'crossroads', 'of', 'europe', 'and', 'africa', 'is', 'country', 'drenched', 'in', 'history', 'mystery', 'and', 'cultural', 'richness', 'testament', 'to', 'the', 'ancient', 'civilizations', 'that', 'once', 'flourished', 'here', 'this', 'north', 'african', 'kingdom', 'boasts', 'unique', 'blend', 'of', 'arab', 'berber', 'and', 'european', 'influences', 'at', 'the', 'heart', 'of', 'morocco', 'rich', 'tapestry', 'lies', 'marrakech', 'one', 'of', 'its', 'four', 'imperial', 'cities', 'and', 'vibrant', 'epicenter', 'of', 'tradition', 'and', 'modernity', 'geographical', 'significance', 'morocco', 'is', 'bordered', 'by', 'the', 'atlantic', 'ocean', 'to', 'the', 'west', 'the', 'mediterranean', 'sea', 'to', 'the', 'north', 'algeria', 'to', 'the', 'east', 'and', 'southeast', 'and', 'the', 'vast', 'sahara', 'desert', 'to', 'the', 'south', 'its', 'strategic', 'location', 'has', 'historically', 'made', 'it', 'sought', 'after', 'territory', 'and', 'melting', 'pot', 'of', 'cultures', 'religions', 'and', 'trade', 'routes', 'marrakech', 'the', 'red', 'city', 'marrakech', 'often', 'referred', 'to', 'as', 'the', 'red', 'city', 'due', 'to', 'its', 'distinctive', 'red', 'hued', 'buildings', 'stands', 'against', 'the', 'backdrop', 'of', 'the', 'snow', 'capped', 'atlas', 'mountains', 'established', 'in', 'the', 'th', 'century', 'it', 'has', 'remained', 'crucial', 'political', 'economic', 'and', 'cultural', 'center', 'of', 'morocco', 'journey', 'through', 'the', 'medina', 'marrakech', 'old', 'town', 'the', 'medina', 'is', 'unesco', 'world', 'heritage', 'site', 'and', 'labyrinthine', 'maze', 'of', 'narrow', 'alleys', 'bustling', 'souks', 'and', 'historical', 'landmarks', 'the', 'djemaa', 'el', 'fna', 'square', 'lies', 'at', 'the', 'heart', 'of', 'the', 'medina', 'and', 'comes', 'alive', 'every', 'evening', 'with', 'storytellers', 'musicians', 'snake', 'charmers', 'and', 'food', 'stalls', 'offering', 'tantalizing', 'moroccan', 'delicacies', 'palaces', 'and', 'gardens', 'the', 'city', 'is', 'also', 'home', 'to', 'grand', 'palaces', 'like', 'the', 'bahia', 'palace', 'showcasing', 'intricate', 'islamic', 'architecture', 'and', 'the', 'saadian', 'tombs', 'remnants', 'of', 'the', 'saadian', 'dynasty', 'the', 'majorelle', 'garden', 'restored', 'by', 'the', 'fashion', 'designer', 'yves', 'saint', 'laurent', 'is', 'tranquil', 'oasis', 'of', 'cacti', 'palm', 'trees', 'and', 'cobalt', 'blue', 'accents', 'modern', 'marrakech', 'while', 'tradition', 'and', 'history', 'permeate', 'marrakech', 'the', 'city', 'is', 'not', 'averse', 'to', 'the', 'modern', 'world', 'gueliz', 'the', 'new', 'town', 'is', 'brimming', 'with', 'contemporary', 'art', 'galleries', 'stylish', 'cafes', 'and', 'chic', 'boutiques', 'offering', 'stark', 'contrast', 'to', 'the', 'ancient', 'medina', 'moroccan', 'cuisine', 'no', 'journey', 'through', 'morocco', 'and', 'marrakech', 'would', 'be', 'complete', 'without', 'indulging', 'in', 'the', 'local', 'cuisine', 'tagines', 'couscous', 'and', 'pastilla', 'are', 'just', 'few', 'of', 'the', 'many', 'dishes', 'that', 'combine', 'plethora', 'of', 'flavors', 'and', 'spices', 'like', 'saffron', 'cumin', 'and', 'mint', 'paired', 'with', 'moroccan', 'mint', 'tea', 'the', 'culinary', 'experience', 'is', 'truly', 'unparalleled', 'in', 'conclusion', 'morocco', 'with', 'marrakech', 'at', 'its', 'heart', 'offers', 'travelers', 'an', 'unparalleled', 'journey', 'through', 'time', 'the', 'convergence', 'of', 'history', 'culture', 'architecture', 'and', 'gastronomy', 'makes', 'it', 'an', 'enthralling', 'destination', 'for', 'those', 'seeking', 'both', 'adventure', 'and', 'reflection', 'as', 'the', 'moroccan', 'proverb', 'goes', 'he', 'who', 'does', 'not', 'travel', 'does', 'not', 'know', 'the', 'value', 'of', 'men', 'in', 'the', 'case', 'of', 'morocco', 'and', 'marrakech', 'it', 'not', 'just', 'the', 'value', 'of', 'men', 'but', 'also', 'the', 'value', 'of', 'time', 'tradition', 'and', 'tales', 'that', 'have', 'spanned', 'centuries']\n"
     ]
    }
   ],
   "source": [
    "from gensim.utils import simple_preprocess\n",
    "\n",
    "# Lecture du fichier\n",
    "with open(\"text\", \"r\", encoding=\"utf-8\") as file:\n",
    "    text = file.read()\n",
    "\n",
    "# Tokenisation du texte\n",
    "tokens = simple_preprocess(text)\n",
    "print(tokens)\n"
   ]
  },
  {
   "cell_type": "markdown",
   "id": "4da76e51",
   "metadata": {},
   "source": []
  },
  {
   "cell_type": "markdown",
   "id": "a8b43aad",
   "metadata": {},
   "source": [
    "## Entraînement du modèle Word2Vec"
   ]
  },
  {
   "cell_type": "code",
   "execution_count": 4,
   "id": "ab940e54",
   "metadata": {},
   "outputs": [],
   "source": [
    "from gensim.models import Word2Vec\n",
    "\n",
    "# Entraînement du modèle Word2Vec\n",
    "model = Word2Vec([tokens], vector_size=100, window=5, min_count=1, sg=1)\n"
   ]
  },
  {
   "cell_type": "markdown",
   "id": "ead1cca8",
   "metadata": {},
   "source": [
    "## Extraire la représentation vectorielle d'un mot"
   ]
  },
  {
   "cell_type": "code",
   "execution_count": 20,
   "id": "25cbe642",
   "metadata": {},
   "outputs": [
    {
     "name": "stdout",
     "output_type": "stream",
     "text": [
      "Représentation vectorielle du mot 'Marrakech': [-8.7946244e-03  1.0782129e-02 -1.6425707e-04 -1.8917718e-03\n",
      "  5.3881938e-03 -6.5351571e-03  3.9908090e-03  1.0859001e-02\n",
      "  4.6295985e-03 -8.7731490e-03  9.5676901e-03  2.4235728e-03\n",
      "  3.0784495e-03 -5.9577180e-03  7.5444453e-03 -3.4218030e-03\n",
      "  8.7527838e-03 -7.6210233e-03 -9.6280463e-03  2.0449962e-03\n",
      "  1.9115921e-03 -1.5696064e-03  1.0054539e-02  9.2908042e-03\n",
      " -9.6625965e-03  2.6972601e-03  6.1685098e-03  2.7370551e-03\n",
      "  4.3464075e-05  7.1095972e-04  1.2735139e-03 -3.3579620e-03\n",
      " -6.0665407e-03 -3.0845893e-03  2.1409921e-03  1.1213919e-02\n",
      "  1.0102232e-02 -7.7116513e-03 -1.0584454e-02  7.0919162e-03\n",
      "  4.1635833e-03  3.4701182e-03  5.6274291e-03 -2.8942029e-03\n",
      "  9.1333175e-03  2.4184019e-03  2.2891148e-03 -2.0513311e-03\n",
      " -2.5971809e-03 -1.2945355e-03  4.7207857e-03 -9.0046407e-04\n",
      " -8.5149854e-03 -9.8911952e-03 -6.8409401e-03  1.2432042e-03\n",
      "  2.3923723e-03  9.1976151e-03  3.9308839e-03 -3.1894217e-03\n",
      "  1.1291225e-03  4.8074834e-03  8.1696333e-03 -2.4192343e-03\n",
      "  2.2425926e-03 -4.8849769e-03  4.9804535e-04  1.0538697e-02\n",
      " -4.4787680e-03 -7.9250606e-03  4.5727477e-03 -2.9340633e-03\n",
      "  5.2292191e-04  9.3584042e-03 -4.4065894e-04 -2.9014468e-03\n",
      " -5.0186212e-03  6.3460097e-03 -7.8479061e-03  2.9552327e-03\n",
      " -5.8805854e-03  6.8026409e-03  2.7658199e-03  4.5857355e-03\n",
      " -2.7029593e-03 -2.2055409e-03  9.9541163e-03  7.3506185e-03\n",
      " -4.2729781e-04 -1.0932288e-02 -6.0330927e-03  1.3883555e-03\n",
      " -9.0092362e-04 -1.2739486e-03  1.3247272e-02  1.5675444e-03\n",
      "  7.1086497e-03 -8.1179673e-03 -2.0571449e-03 -5.5279736e-03]\n"
     ]
    }
   ],
   "source": [
    "# Représentation vectorielle d'un mot\n",
    "word_vector = model.wv['marrakech']\n",
    "print(\"Représentation vectorielle du mot 'Marrakech':\", word_vector)"
   ]
  },
  {
   "cell_type": "markdown",
   "id": "91c4070c",
   "metadata": {},
   "source": [
    "## Calculer la similarité entre deux mots"
   ]
  },
  {
   "cell_type": "code",
   "execution_count": 9,
   "id": "97f1d7f8",
   "metadata": {},
   "outputs": [
    {
     "name": "stdout",
     "output_type": "stream",
     "text": [
      "Similarité entre 'Marrakech' et 'Morocco': 0.22607619\n"
     ]
    }
   ],
   "source": [
    "# Calcul de la similarité entre deux mots\n",
    "similarity = model.wv.similarity('marrakech', 'morocco')\n",
    "print(\"Similarité entre 'Marrakech' et 'Morocco':\", similarity)\n"
   ]
  },
  {
   "cell_type": "markdown",
   "id": "c8f3f943",
   "metadata": {},
   "source": [
    "## Extraire les mots contextuels pour un mot central donné"
   ]
  },
  {
   "cell_type": "code",
   "execution_count": 17,
   "id": "8ccab7b8",
   "metadata": {},
   "outputs": [
    {
     "name": "stdout",
     "output_type": "stream",
     "text": [
      "Mots contextuels pour 'Marrakech': [('the', 0.2820108234882355), ('moroccan', 0.273056298494339), ('cumin', 0.2661523222923279)]\n"
     ]
    }
   ],
   "source": [
    "# Mots contextuels pour un mot central donné\n",
    "context_words = model.wv.most_similar('cuisine', topn=3)\n",
    "print(\"Mots contextuels pour 'Marrakech':\", context_words)"
   ]
  }
 ],
 "metadata": {
  "kernelspec": {
   "display_name": "Python 3 (ipykernel)",
   "language": "python",
   "name": "python3"
  },
  "language_info": {
   "codemirror_mode": {
    "name": "ipython",
    "version": 3
   },
   "file_extension": ".py",
   "mimetype": "text/x-python",
   "name": "python",
   "nbconvert_exporter": "python",
   "pygments_lexer": "ipython3",
   "version": "3.11.5"
  }
 },
 "nbformat": 4,
 "nbformat_minor": 5
}
